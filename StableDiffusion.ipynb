{
  "nbformat": 4,
  "nbformat_minor": 0,
  "metadata": {
    "colab": {
      "name": "StableDiffusion.ipynb",
      "provenance": [],
      "collapsed_sections": [],
      "mount_file_id": "1cvx9qVIkfQSJlV1PE9tEE0uw5tvltQdn",
      "authorship_tag": "ABX9TyPWmwXr45z1QUSITZEnpEjQ",
      "include_colab_link": true
    },
    "kernelspec": {
      "name": "python3",
      "display_name": "Python 3"
    },
    "language_info": {
      "name": "python"
    },
    "accelerator": "GPU",
    "gpuClass": "standard"
  },
  "cells": [
    {
      "cell_type": "markdown",
      "metadata": {
        "id": "view-in-github",
        "colab_type": "text"
      },
      "source": [
        "<a href=\"https://colab.research.google.com/github/souri-t/JupyterNotebook-StableDiffusion/blob/main/StableDiffusion.ipynb\" target=\"_parent\"><img src=\"https://colab.research.google.com/assets/colab-badge.svg\" alt=\"Open In Colab\"/></a>"
      ]
    },
    {
      "cell_type": "code",
      "execution_count": null,
      "metadata": {
        "id": "bBD7jpqVTrn2"
      },
      "outputs": [],
      "source": [
        "pip install diffusers==0.2.4 transformers scipy ftfy"
      ]
    },
    {
      "cell_type": "code",
      "source": [
        "YOUR_TOKEN=\"xxxx\""
      ],
      "metadata": {
        "id": "Jvn3k2cYUMxe"
      },
      "execution_count": null,
      "outputs": []
    },
    {
      "cell_type": "code",
      "source": [
        "from diffusers import StableDiffusionPipeline\n",
        "\n",
        "# StableDiffusionパイプラインの準備\n",
        "pipe = StableDiffusionPipeline.from_pretrained(\"CompVis/stable-diffusion-v1-4\", use_auth_token=YOUR_TOKEN)\n",
        "pipe.to(\"cuda\")"
      ],
      "metadata": {
        "id": "zrxB8BbcUWqd"
      },
      "execution_count": null,
      "outputs": []
    },
    {
      "cell_type": "code",
      "source": [
        "import datetime, os\n",
        "\n",
        "# 指示文\n",
        "prompt = \"a illustration of corgi in Hayao Miyazaki style\"\n",
        "\n",
        "# 生成数\n",
        "createCount = 5\n",
        "\n",
        "# 時刻生成用\n",
        "t_delta = datetime.timedelta(hours=9)\n",
        "JST = datetime.timezone(t_delta, 'JST')\n",
        "\n",
        "# Google Driveをマウントする\n",
        "from google.colab import drive\n",
        "drive.mount('/content/drive')\n",
        "drive = \"/content/drive/MyDrive/StableDiffusion\"\n",
        "\n",
        "# 実行日のフォルダを生成する\n",
        "todayDir = f\"{drive}/{datetime.datetime.now(JST).strftime('%Y%m%d')}\"\n",
        "\n",
        "# フォルダがない場合、作成する\n",
        "if not os.path.exists(todayDir):\n",
        "    os.makedirs(todayDir)\n",
        "\n",
        "# 画像フォルダ生成（最初の6単語までと実行時刻をフォルダ名とする）\n",
        "imageDirName = '_'.join(prompt.split()[:6])\n",
        "dirname = f\"{todayDir}/{datetime.datetime.now(JST).strftime('%H%M%S')}_{imageDirName}\"\n",
        "os.mkdir(f\"{dirname}\")\n",
        "\n",
        "# 指示文をファイル書き込みで保存\n",
        "f = open(f\"{dirname}/memo.txt\", 'w')\n",
        "f.write(prompt)\n",
        "f.close()\n",
        "\n",
        "# 画像生成\n",
        "print(f\"Order:{prompt}\")\n",
        "for num in range(createCount):\n",
        "  image = pipe(prompt)[\"sample\"][0]\n",
        "  image.save(f\"{dirname}/{datetime.datetime.now(JST).strftime('%Y%m%d%H%M%S')}.png\")"
      ],
      "metadata": {
        "id": "FkyCbk7pYNLq"
      },
      "execution_count": null,
      "outputs": []
    }
  ]
}